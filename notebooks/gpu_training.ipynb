{
  "cells": [
    {
      "cell_type": "markdown",
      "metadata": {},
      "source": [
        "API may be outdated, and need minor updates! \n",
        "Feel free to send a PR if it happens."
      ]
    },
    {
      "cell_type": "code",
      "execution_count": null,
      "metadata": {
        "id": "wmhvy-5kMvY0"
      },
      "outputs": [],
      "source": [
        "!pip3 install \"torch_practice[cu124]@git+https://github.com/ghsanti/torch_practice@dev\" -q"
      ]
    },
    {
      "cell_type": "markdown",
      "metadata": {
        "id": "B9PVwqHWMBF7"
      },
      "source": [
        "* Test Plain Inference (manual placement.)"
      ]
    },
    {
      "cell_type": "code",
      "execution_count": null,
      "metadata": {},
      "outputs": [],
      "source": [
        "import logging\n",
        "\n",
        "logging.basicConfig(level=\"DEBUG\", force=True)\n",
        "lgr = logging.getLogger()"
      ]
    },
    {
      "cell_type": "code",
      "execution_count": null,
      "metadata": {},
      "outputs": [],
      "source": [
        "import torch\n",
        "\n",
        "from torch_practice.default_config import default_config\n",
        "from torch_practice.nn_arch import DynamicAE\n",
        "\n",
        "\n",
        "def main() -> None:\n",
        "  \"\"\"Run a simple inference with manual device placement.\"\"\"\n",
        "  c = default_config()\n",
        "  ae = DynamicAE(c)\n",
        "  # may need initialising it  ae(random_tensor) (before using cuda)\n",
        "  ae = ae.to(\"cuda\")\n",
        "\n",
        "  random_tensor = torch.randn((1, 3, 32, 32)).to(\"cuda\")\n",
        "\n",
        "  lgr.debug(random_tensor.device)\n",
        "  r = ae(random_tensor)\n",
        "  lgr.info(r)\n",
        "\n",
        "\n",
        "main()"
      ]
    },
    {
      "cell_type": "markdown",
      "metadata": {},
      "source": [
        "* Simple training"
      ]
    },
    {
      "cell_type": "code",
      "execution_count": null,
      "metadata": {
        "id": "dPzSdk0pPwhN"
      },
      "outputs": [],
      "source": [
        "from torch_practice.simple_train import train\n",
        "\n",
        "train(default_config())"
      ]
    }
  ],
  "metadata": {
    "accelerator": "GPU",
    "colab": {
      "gpuType": "T4",
      "provenance": []
    },
    "kernelspec": {
      "display_name": "Python 3",
      "name": "python3"
    },
    "language_info": {
      "name": "python"
    }
  },
  "nbformat": 4,
  "nbformat_minor": 0
}
