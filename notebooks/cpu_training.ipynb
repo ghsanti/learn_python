{
 "cells": [
  {
   "cell_type": "code",
   "execution_count": 1,
   "metadata": {},
   "outputs": [],
   "source": [
    "import torch_practice"
   ]
  },
  {
   "cell_type": "code",
   "execution_count": null,
   "metadata": {
    "colab": {
     "base_uri": "https://localhost:8080/"
    },
    "id": "5SrKO-1SLTDB",
    "outputId": "9302c164-b8ea-4ae2-c025-1f07b48a1968"
   },
   "outputs": [],
   "source": [
    "!pip3 install \"torch_practice[cpu]@git+https://github.com/ghsanti/torch_practice@dev\" -q"
   ]
  },
  {
   "cell_type": "markdown",
   "metadata": {
    "id": "B9PVwqHWMBF7"
   },
   "source": [
    "* Test Inference"
   ]
  },
  {
   "cell_type": "code",
   "execution_count": null,
   "metadata": {
    "colab": {
     "base_uri": "https://localhost:8080/"
    },
    "id": "l93mPMU1KiFH",
    "outputId": "0d67f3f6-3297-4508-8a41-11c42e64b0d6"
   },
   "outputs": [],
   "source": [
    "import logging\n",
    "\n",
    "import torch\n",
    "\n",
    "from torch_practice.default_config import default_config\n",
    "from torch_practice.nn_arch import DynamicAE\n",
    "\n",
    "logging.basicConfig(level=\"DEBUG\", force=True)\n",
    "\n",
    "c = default_config()\n",
    "ae = DynamicAE(c[\"arch\"])\n",
    "\n",
    "random_tensor = torch.randn((1, 3, 32, 32))\n",
    "ae(random_tensor)"
   ]
  },
  {
   "cell_type": "markdown",
   "metadata": {
    "id": "Nz7k1izQMDlV"
   },
   "source": [
    "* Test default training (CPU)\n",
    "\n",
    "**This may take quite long**, skip it if you already see it working, or just test the custom code at the bottom directly."
   ]
  },
  {
   "cell_type": "code",
   "execution_count": null,
   "metadata": {
    "colab": {
     "base_uri": "https://localhost:8080/"
    },
    "id": "h8hI2mjvMGS-",
    "outputId": "f5104f4b-a938-4940-a0e5-d167ef8dc5da"
   },
   "outputs": [],
   "source": [
    "# !python -m torch_practice.simple_train"
   ]
  },
  {
   "cell_type": "code",
   "execution_count": null,
   "metadata": {
    "id": "pyGaxz_0MSVV"
   },
   "outputs": [],
   "source": [
    "import torch\n",
    "\n",
    "from torch_practice.default_config import default_config\n",
    "from torch_practice.simple_train import train\n",
    "\n",
    "c = default_config()\n",
    "c[\"epochs\"] = 400\n",
    "c[\"batch_size\"] = 12\n",
    "c[\"saver\"][\"save_every\"] = 10\n",
    "c[\"arch\"][\"c_activ\"] =torch.nn.functional.relu\n",
    "c[\"arch\"][\"dense_activ\"] =torch.nn.functional.silu\n",
    "c[\"arch\"][\"growth\"] = 1.7\n",
    "c[\"arch\"][\"layers\"] = 3\n",
    "c[\"arch\"][\"c_stride\"] = 1\n",
    "\n",
    "\n",
    "train(c)"
   ]
  },
  {
   "cell_type": "markdown",
   "metadata": {
    "id": "hWpRQIGbMQf4"
   },
   "source": [
    "* Test Custom training"
   ]
  }
 ],
 "metadata": {
  "colab": {
   "provenance": []
  },
  "kernelspec": {
   "display_name": ".venv",
   "language": "python",
   "name": "python3"
  },
  "language_info": {
   "codemirror_mode": {
    "name": "ipython",
    "version": 3
   },
   "file_extension": ".py",
   "mimetype": "text/x-python",
   "name": "python",
   "nbconvert_exporter": "python",
   "pygments_lexer": "ipython3",
   "version": "3.10.16"
  }
 },
 "nbformat": 4,
 "nbformat_minor": 0
}
