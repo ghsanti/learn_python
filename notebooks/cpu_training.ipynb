{
 "cells": [
  {
   "cell_type": "code",
   "execution_count": 1,
   "metadata": {},
   "outputs": [],
   "source": [
    "import torch_practice"
   ]
  },
  {
   "cell_type": "code",
   "execution_count": null,
   "metadata": {
    "colab": {
     "base_uri": "https://localhost:8080/"
    },
    "id": "5SrKO-1SLTDB",
    "outputId": "9302c164-b8ea-4ae2-c025-1f07b48a1968"
   },
   "outputs": [],
   "source": [
    "!pip3 install \"torch_practice[cpu]@git+https://github.com/ghsanti/torch_practice@dev\" -q"
   ]
  },
  {
   "cell_type": "markdown",
   "metadata": {
    "id": "B9PVwqHWMBF7"
   },
   "source": [
    "* Test Inference"
   ]
  },
  {
   "cell_type": "code",
   "execution_count": null,
   "metadata": {
    "colab": {
     "base_uri": "https://localhost:8080/"
    },
    "id": "l93mPMU1KiFH",
    "outputId": "0d67f3f6-3297-4508-8a41-11c42e64b0d6"
   },
   "outputs": [],
   "source": [
    "import logging\n",
    "\n",
    "import torch\n",
    "\n",
    "from torch_practice.default_config import default_config\n",
    "from torch_practice.nn_arch import DynamicAE\n",
    "\n",
    "logging.basicConfig(level=\"DEBUG\", force=True)\n",
    "\n",
    "c = default_config()\n",
    "ae = DynamicAE(c[\"arch\"])\n",
    "\n",
    "random_tensor = torch.randn((1, 3, 32, 32))\n",
    "ae(random_tensor)"
   ]
  },
  {
   "cell_type": "markdown",
   "metadata": {
    "id": "Nz7k1izQMDlV"
   },
   "source": [
    "* Test default training (CPU)\n",
    "\n",
    "**This may take quite long**, skip it if you already see it working, or just test the custom code at the bottom directly."
   ]
  },
  {
   "cell_type": "code",
   "execution_count": null,
   "metadata": {
    "colab": {
     "base_uri": "https://localhost:8080/"
    },
    "id": "h8hI2mjvMGS-",
    "outputId": "f5104f4b-a938-4940-a0e5-d167ef8dc5da"
   },
   "outputs": [],
   "source": [
    "!python -m torch_practice.simple_train"
   ]
  },
  {
   "cell_type": "markdown",
   "metadata": {
    "id": "hWpRQIGbMQf4"
   },
   "source": [
    "* Test Custom training"
   ]
  },
  {
   "cell_type": "code",
   "execution_count": null,
   "metadata": {
    "id": "pyGaxz_0MSVV"
   },
   "outputs": [
    {
     "name": "stdout",
     "output_type": "stream",
     "text": [
      "Files already downloaded and verified\n",
      "Files already downloaded and verified\n"
     ]
    },
    {
     "name": "stderr",
     "output_type": "stream",
     "text": [
      "INFO:torch_practice:Network Configuration: \n",
      "INFO:torch_practice:{'arch': {'c_activ': <function silu at 0x120029750>,\n",
      "          'c_kernel': 2,\n",
      "          'c_stride': 2,\n",
      "          'd_activ': <function silu at 0x120029750>,\n",
      "          'dense_activ': <function leaky_relu at 0x120028f70>,\n",
      "          'dropout2d_rate': 0.3,\n",
      "          'dropout_rate_latent': 0.3,\n",
      "          'growth': 1.7,\n",
      "          'init_out_channels': 6,\n",
      "          'input_size': (3, 32, 32),\n",
      "          'latent_dimension': 96,\n",
      "          'layers': 4,\n",
      "          'p_kernel': 2,\n",
      "          'p_stride': 2,\n",
      "          'use_dropout2d': True,\n",
      "          'use_dropout_latent': False,\n",
      "          'use_pool': False},\n",
      " 'batch_size': 12,\n",
      " 'data_dir': './data',\n",
      " 'epochs': 400,\n",
      " 'gradient_log': False,\n",
      " 'log_level': 'DEBUG',\n",
      " 'loss_mode': 'min',\n",
      " 'lr': 0.001,\n",
      " 'n_workers': 2,\n",
      " 'prob_split': (0.8, 0.2),\n",
      " 'saver': {'basedir': 'checkpoints',\n",
      "           'save_at': 'improve',\n",
      "           'save_every': 10,\n",
      "           'save_mode': 'state_dict'},\n",
      " 'seed': None}\n",
      "DEBUG:torch_practice:Network Device mps\n",
      "INFO:torch_practice:Optimizer SGD\n",
      "INFO:torch_practice:Loss with MSELoss\n",
      "INFO:torch_practice:Epoch 1 / 400  |  loss train: 0.474  |  eval: 0.254\n",
      "INFO:torch_practice:Epoch 2 / 400  |  loss train: 0.254  |  eval: 0.254\n",
      "INFO:torch_practice:Epoch 3 / 400  |  loss train: 0.251  |  eval: 0.254\n",
      "INFO:torch_practice:Epoch 4 / 400  |  loss train: 0.251  |  eval: 0.254\n",
      "INFO:torch_practice:Epoch 5 / 400  |  loss train: 0.251  |  eval: 0.254\n",
      "INFO:torch_practice:Epoch 6 / 400  |  loss train: 0.251  |  eval: 0.254\n",
      "INFO:torch_practice:Epoch 7 / 400  |  loss train: 0.251  |  eval: 0.254\n",
      "INFO:torch_practice:Epoch 8 / 400  |  loss train: 0.251  |  eval: 0.254\n"
     ]
    }
   ],
   "source": [
    "import torch\n",
    "\n",
    "from torch_practice.default_config import default_config\n",
    "from torch_practice.simple_train import train\n",
    "\n",
    "c = default_config()\n",
    "c[\"epochs\"] = 400\n",
    "c[\"batch_size\"] = 12\n",
    "c[\"saver\"][\"save_every\"] = 10\n",
    "c[\"arch\"][\"c_activ\"] =torch.nn.functional.relu\n",
    "c[\"arch\"][\"d_activ\"] =torch.nn.functional.relu\n",
    "c[\"arch\"][\"growth\"] = 1.7\n",
    "c[\"arch\"][\"layers\"] = 3\n",
    "c[\"arch\"][\"c_stride\"] = 1\n",
    "\n",
    "\n",
    "train(c)"
   ]
  }
 ],
 "metadata": {
  "colab": {
   "provenance": []
  },
  "kernelspec": {
   "display_name": ".venv",
   "language": "python",
   "name": "python3"
  },
  "language_info": {
   "codemirror_mode": {
    "name": "ipython",
    "version": 3
   },
   "file_extension": ".py",
   "mimetype": "text/x-python",
   "name": "python",
   "nbconvert_exporter": "python",
   "pygments_lexer": "ipython3",
   "version": "3.10.16"
  }
 },
 "nbformat": 4,
 "nbformat_minor": 0
}
