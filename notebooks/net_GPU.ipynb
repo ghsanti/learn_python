{
  "cells": [
    {
      "cell_type": "code",
      "execution_count": null,
      "metadata": {
        "id": "wmhvy-5kMvY0"
      },
      "outputs": [],
      "source": [
        "!pip3 install \"git+https://github.com/ghsanti/torch_practice@dev\" -q"
      ]
    },
    {
      "cell_type": "markdown",
      "metadata": {
        "id": "B9PVwqHWMBF7"
      },
      "source": [
        "* Test Plain Inference (manual placement.)"
      ]
    },
    {
      "cell_type": "code",
      "execution_count": null,
      "metadata": {},
      "outputs": [],
      "source": [
        "import logging\n",
        "\n",
        "logging.basicConfig(level=\"DEBUG\", force=True)\n",
        "lgr = logging.getLogger()"
      ]
    },
    {
      "cell_type": "code",
      "execution_count": null,
      "metadata": {
        "id": "dPzSdk0pPwhN"
      },
      "outputs": [],
      "source": [
        "import torch\n",
        "\n",
        "from torch_practice.default_config import default_config\n",
        "from torch_practice.nn_arch.nn_arch import DynamicAE\n",
        "\n",
        "\n",
        "def main() -> None:\n",
        "  \"\"\"Run a simple inference with manual device placement.\"\"\"\n",
        "  c = default_config()\n",
        "  ae = DynamicAE(c).to(\"cuda\")\n",
        "\n",
        "  random_tensor = torch.randn((1, 3, 32, 32)).to(\"cuda\")\n",
        "\n",
        "  lgr.debug(random_tensor.device)\n",
        "  r = ae(random_tensor)\n",
        "  lgr.info(r)\n",
        "\n",
        "\n",
        "main()"
      ]
    },
    {
      "cell_type": "markdown",
      "metadata": {
        "id": "RVu2REGqQDRm"
      },
      "source": [
        "* Plain Inference (Accelerator.)\n",
        "\n",
        "I am not sure if it's possible (to be done in the future.)"
      ]
    },
    {
      "cell_type": "markdown",
      "metadata": {
        "id": "Ossip1cnR8HQ"
      },
      "source": [
        "* Training (using launcher.)"
      ]
    },
    {
      "cell_type": "code",
      "execution_count": null,
      "metadata": {
        "id": "l93mPMU1KiFH"
      },
      "outputs": [],
      "source": [
        "from functools import partial\n",
        "\n",
        "from accelerate import notebook_launcher\n",
        "\n",
        "from torch_practice.simple_train import train\n",
        "\n",
        "c = default_config()\n",
        "notebook_launcher(partial(train, c))"
      ]
    }
  ],
  "metadata": {
    "accelerator": "GPU",
    "colab": {
      "gpuType": "T4",
      "provenance": []
    },
    "kernelspec": {
      "display_name": "Python 3",
      "name": "python3"
    },
    "language_info": {
      "name": "python"
    }
  },
  "nbformat": 4,
  "nbformat_minor": 0
}
